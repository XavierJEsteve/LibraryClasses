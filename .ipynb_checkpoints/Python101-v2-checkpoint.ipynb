{
 "cells": [
  {
   "cell_type": "markdown",
   "id": "f1e08903",
   "metadata": {},
   "source": [
    "# 1. What is programming? How is it used?\n",
    "## ⏱️ 5 Minutes "
   ]
  },
  {
   "cell_type": "markdown",
   "id": "bcea249b",
   "metadata": {},
   "source": [
    "Computer programs, also called software, are useful tools for automating tasks, performing complex calculations, and creating systems that are primarily interacted with by people."
   ]
  },
  {
   "cell_type": "markdown",
   "id": "5de9bded",
   "metadata": {},
   "source": [
    "All programs use basic instructions as building blocks. Here are a few of the most common ones, in English:\n",
    "\n",
    "“Do this; then do that.”\n",
    "“If this condition is true, perform this action; otherwise, do that action.”\n",
    "“Do this action exactly 27 times.”\n",
    "“Keep doing that until this condition is true.”"
   ]
  },
  {
   "cell_type": "markdown",
   "id": "55812c4e",
   "metadata": {},
   "source": [
    "Python programs run from top to bottom and have a flow like the one below:\n",
    "\n",
    "➊ passwordFile = open('SecretPasswordFile.txt')\n",
    "\n",
    "➋ secretPassword = passwordFile.read()\n",
    "\n",
    "➌ print('Enter your password.')\n",
    "\n",
    "➍ typedPassword = input()\n",
    "   \n",
    "➎ if typedPassword == secretPassword:\n",
    "\n",
    "    ➏ print('Access granted')\n",
    "   \n",
    "➐ if typedPassword == '12345':\n",
    "   \n",
    "    ➑ print('That password is one that an idiot puts on their luggage.')\n",
    "\n",
    "➑ else:\n",
    "  \n",
    "      print('Access denied')"
   ]
  },
  {
   "cell_type": "markdown",
   "id": "0d0a646b",
   "metadata": {},
   "source": [
    "# 2. What is Python? Where does it fit in with other programming languages?\n",
    "\n",
    "## ⏱️  5 minutes"
   ]
  },
  {
   "cell_type": "markdown",
   "id": "55610594",
   "metadata": {},
   "source": [
    "# 3. Getting Started\n",
    "## ⏱️ 20 minutes\n",
    "\n",
    "You can try writing python code immediately without downloading anything using this website!\n",
    "https://www.online-python.com/\n",
    "\n",
    "There are two main ways to execute python code. \n",
    "* Directly in an **interpreter**\n",
    "* By creating files such as my_program.py, and invoking the Python program.\n"
   ]
  },
  {
   "cell_type": "markdown",
   "id": "ac7ec12a-0ecc-4498-b660-a4b8453f4d37",
   "metadata": {},
   "source": [
    "### Check for and install python\n",
    "\n",
    "#### Windows\n",
    "1. Open CMD\n",
    "2. type 'Python'\n",
    "\n",
    "3. If you see something like the following, you're done!\n",
    "    ![image](img/windowsCMD_python.png)\n",
    "\n",
    "   \n",
    "4. Python was **NOT** installed:\n",
    "    a. Navigate to https://www.python.org/downloads/windows/\n",
    "   \n",
    "    ![image](img/pythonOrg_wininstall.png)\n",
    "\n",
    "6. BE SURE TO CHECK THESE BOXES:\n",
    "IMAGE \n",
    "    ![image](img/win_installoptions.png)\n",
    "\n",
    "\n",
    "#### MAC\n",
    "1. Should already be installed :)\n",
    "2. If not, navigate to https://www.python.org/downloads/macos/\n",
    "\n",
    "![image](img/pythonOrg_macinstall.png)\n",
    "\n",
    "\n",
    "#### Linux \n",
    "1. You have it.\n",
    "\n",
    "#### Online resources\n",
    "\n",
    "If you would rather not or cannot install the software: there are options online. However, it should be noted that these tools will have limited functionality.\n",
    "\n",
    "I can only recommend the following:\n",
    "\n",
    "1. https://pythonhow.com/python-shell\n",
    "2. https://www.w3schools.com/python/python_compiler.asp  - Best if you make an account\n",
    "3. https://jupyter.org/try  -  Jupyter is the most powerful but potentially confusing. Seek guidance to start working with this."
   ]
  },
  {
   "cell_type": "markdown",
   "id": "495a609e-0dd8-4701-8fe3-2973ae59fc63",
   "metadata": {},
   "source": [
    "## First python program!\n",
    "\n",
    "Sticking with tradition, we will write our first line of python code:"
   ]
  },
  {
   "cell_type": "code",
   "execution_count": 7,
   "id": "c621f37b-1ce6-4e78-95ef-568109681bb1",
   "metadata": {},
   "outputs": [
    {
     "name": "stdout",
     "output_type": "stream",
     "text": [
      "hello world!\n"
     ]
    }
   ],
   "source": [
    "#This is a comment. It doesn't do anything!!! How exciting:\n",
    "# My first program!\n",
    "print('hello world!')"
   ]
  },
  {
   "cell_type": "markdown",
   "id": "cbcef5a6-2b0f-4f47-8e23-15cc54e2cf3c",
   "metadata": {},
   "source": [
    "### Option 1: Create a python file \"hello_world.py\"\n",
    "1. Open a text editor\n",
    "2. write the following:\n",
    "    `print('hello world')`\n",
    "\n",
    "3. Open a command terminal\n",
    "* In windows: CMD\n",
    "* In mac: terminal\n",
    "\n",
    "4. Run the python program (which we installed) as shown below:\n",
    "\n",
    "![image](img/hello_world_file.png)"
   ]
  },
  {
   "cell_type": "markdown",
   "id": "1ba431e6-72dd-41ed-92f0-08ddedf680b9",
   "metadata": {},
   "source": [
    "### Option 2: Directly in the python shell\n",
    "\n",
    "![hello_world_shell](img/helloWorld_shell.png)"
   ]
  },
  {
   "cell_type": "markdown",
   "id": "57e2a18b",
   "metadata": {},
   "source": [
    "# 4. Basic data types\n",
    "## ⏱️ 15 minutes\n",
    "\n",
    "Programs only work because the data has specifications. The word **Data Types** is used to distinguish different types of numbers (Yes! There are different types of numbers!), strings, booleans, and even special units that are created by the programmer using these fundamental types.\n",
    "\n",
    "### So what are these things?"
   ]
  },
  {
   "cell_type": "markdown",
   "id": "a1daa92b",
   "metadata": {},
   "source": [
    "![image](img/basicTypes.png)"
   ]
  },
  {
   "cell_type": "markdown",
   "id": "6c6aa056",
   "metadata": {},
   "source": [
    "Programing is made possible by the rules that come with each language. We cant expect numbers and strings to play nice with eachother all the time. Though, python is definitely a bit fast and loose compared to other languages which makes it more approachable to many new programmers."
   ]
  },
  {
   "cell_type": "code",
   "execution_count": 18,
   "id": "526b1c56",
   "metadata": {},
   "outputs": [
    {
     "name": "stdout",
     "output_type": "stream",
     "text": [
      "<class 'str'>\n",
      "<class 'int'>\n",
      "<class 'float'>\n"
     ]
    }
   ],
   "source": [
    "# Any guesses on what the results will be?\n",
    "print(type('This is a string'))\n",
    "print(type(2025))\n",
    "print( type(2025 / 4050))"
   ]
  },
  {
   "cell_type": "code",
   "execution_count": 22,
   "id": "006d30de",
   "metadata": {},
   "outputs": [
    {
     "name": "stdout",
     "output_type": "stream",
     "text": [
      "2.5\n",
      "Sasha / Eugene\n"
     ]
    },
    {
     "ename": "TypeError",
     "evalue": "unsupported operand type(s) for /: 'str' and 'int'",
     "output_type": "error",
     "traceback": [
      "\u001b[31m---------------------------------------------------------------------------\u001b[39m",
      "\u001b[31mTypeError\u001b[39m                                 Traceback (most recent call last)",
      "\u001b[36mCell\u001b[39m\u001b[36m \u001b[39m\u001b[32mIn[22]\u001b[39m\u001b[32m, line 3\u001b[39m\n\u001b[32m      1\u001b[39m \u001b[38;5;28mprint\u001b[39m( \u001b[32m10\u001b[39m / \u001b[32m4\u001b[39m )\n\u001b[32m      2\u001b[39m \u001b[38;5;28mprint\u001b[39m(\u001b[33m'\u001b[39m\u001b[33mSasha / Eugene\u001b[39m\u001b[33m'\u001b[39m)\n\u001b[32m----> \u001b[39m\u001b[32m3\u001b[39m \u001b[38;5;28mprint\u001b[39m(\u001b[33;43m'\u001b[39;49m\u001b[33;43mNegan\u001b[39;49m\u001b[33;43m'\u001b[39;49m\u001b[43m \u001b[49m\u001b[43m/\u001b[49m\u001b[43m \u001b[49m\u001b[32;43m2\u001b[39;49m)\n",
      "\u001b[31mTypeError\u001b[39m: unsupported operand type(s) for /: 'str' and 'int'"
     ]
    }
   ],
   "source": [
    "print( 10 / 4 )\n",
    "print('Sasha / Eugene')\n",
    "print('Negan' / 2)"
   ]
  },
  {
   "cell_type": "code",
   "execution_count": 21,
   "id": "add4c985-bd7e-4aed-bee8-7dd61de9b8dc",
   "metadata": {},
   "outputs": [
    {
     "ename": "SyntaxError",
     "evalue": "invalid syntax. Perhaps you forgot a comma? (2391484511.py, line 2)",
     "output_type": "error",
     "traceback": [
      "  \u001b[36mCell\u001b[39m\u001b[36m \u001b[39m\u001b[32mIn[21]\u001b[39m\u001b[32m, line 2\u001b[39m\n\u001b[31m    \u001b[39m\u001b[31mprint(what about me?)\u001b[39m\n          ^\n\u001b[31mSyntaxError\u001b[39m\u001b[31m:\u001b[39m invalid syntax. Perhaps you forgot a comma?\n"
     ]
    }
   ],
   "source": [
    "# Something doesn't look right here....\n",
    "print(what about me?)"
   ]
  },
  {
   "cell_type": "markdown",
   "id": "66a47f07",
   "metadata": {},
   "source": [
    "# 5. Variables\n",
    "## ⏱️ 15 minutes\n",
    "\n",
    "Variables are crucial to making useful programs! They allow us to associate data to names of our choosing, effectively storing information."
   ]
  },
  {
   "cell_type": "code",
   "execution_count": null,
   "id": "75cddaa4",
   "metadata": {},
   "outputs": [],
   "source": [
    "# Variables are created by use of ASSIGNMENTS....by using '='\n",
    "full_class = 32\n",
    "\n",
    "#We can initialize any amount of variables\n",
    "half_class = 16\n",
    "quarter_class = 8\n",
    "double_class = 64\n",
    "# and so on...\n",
    "\n",
    "# Say we get a new classroom that can fit 40 people. \n",
    "# How many things would we have to change?"
   ]
  },
  {
   "cell_type": "code",
   "execution_count": 60,
   "id": "1025e8bb",
   "metadata": {},
   "outputs": [],
   "source": [
    "#Making clever use of variables\n",
    "\n",
    "full_class = 32\n",
    "half_class = full_class / 2\n",
    "quarter_class = half_class / 2\n",
    "double_class = full_class * 2"
   ]
  },
  {
   "cell_type": "markdown",
   "id": "74c9f4df",
   "metadata": {},
   "source": [
    "An important thing about variables in python is that they can be changed by assigning a new value. They are *mutable*."
   ]
  },
  {
   "cell_type": "code",
   "execution_count": 61,
   "id": "8c1f8822",
   "metadata": {},
   "outputs": [
    {
     "name": "stdout",
     "output_type": "stream",
     "text": [
      "Old class size:  32\n",
      "New class size:  10\n"
     ]
    }
   ],
   "source": [
    "print(\"Old class size: \", full_class)\n",
    "\n",
    "#New class size\n",
    "full_class = 10\n",
    "print(\"New class size: \", full_class)"
   ]
  },
  {
   "cell_type": "markdown",
   "id": "efac02a6",
   "metadata": {},
   "source": [
    "![image](img/variableNames.png)"
   ]
  },
  {
   "cell_type": "markdown",
   "id": "6a0efe8d",
   "metadata": {},
   "source": [
    "# 6. Mathematics\n",
    "\n",
    "It is not exactly required that you be a methematician to program. Though it is necessary to know how to call upon different operations at times.\n",
    "\n",
    "![image](img/mathOperators.png)"
   ]
  },
  {
   "cell_type": "markdown",
   "id": "65b6bd22",
   "metadata": {},
   "source": [
    "# 7. Typecasting and the input() function\n",
    "\n",
    "Sometimes we want to turn numbers into their string equivalent. Or integers into floats and vice-versa. This can be done with **type-casting**."
   ]
  },
  {
   "cell_type": "code",
   "execution_count": null,
   "id": "41bfcbe7",
   "metadata": {},
   "outputs": [],
   "source": [
    "print(str(5))\n",
    "print(int(42.99))\n",
    "print(float(1))"
   ]
  },
  {
   "cell_type": "code",
   "execution_count": 62,
   "id": "d9e7608b",
   "metadata": {},
   "outputs": [
    {
     "name": "stdin",
     "output_type": "stream",
     "text": [
      "What is your name? xavier\n",
      "And your age? 26\n"
     ]
    },
    {
     "ename": "TypeError",
     "evalue": "can only concatenate str (not \"int\") to str",
     "output_type": "error",
     "traceback": [
      "\u001b[31m---------------------------------------------------------------------------\u001b[39m",
      "\u001b[31mTypeError\u001b[39m                                 Traceback (most recent call last)",
      "\u001b[36mCell\u001b[39m\u001b[36m \u001b[39m\u001b[32mIn[62]\u001b[39m\u001b[32m, line 6\u001b[39m\n\u001b[32m      2\u001b[39m name = \u001b[38;5;28minput\u001b[39m(\u001b[33m'\u001b[39m\u001b[33mWhat is your name?\u001b[39m\u001b[33m'\u001b[39m)\n\u001b[32m      4\u001b[39m age = \u001b[38;5;28minput\u001b[39m(\u001b[33m'\u001b[39m\u001b[33mAnd your age?\u001b[39m\u001b[33m'\u001b[39m)\n\u001b[32m----> \u001b[39m\u001b[32m6\u001b[39m \u001b[38;5;28mprint\u001b[39m(\u001b[33;43m'\u001b[39;49m\u001b[33;43mHm. Well at least you aren\u001b[39;49m\u001b[38;5;130;43;01m\\'\u001b[39;49;00m\u001b[33;43mt \u001b[39;49m\u001b[33;43m'\u001b[39;49m\u001b[43m \u001b[49m\u001b[43m+\u001b[49m\u001b[43m \u001b[49m\u001b[43mage\u001b[49m\u001b[43m \u001b[49m\u001b[43m+\u001b[49m\u001b[43m \u001b[49m\u001b[32;43m5\u001b[39;49m)\n",
      "\u001b[31mTypeError\u001b[39m: can only concatenate str (not \"int\") to str"
     ]
    }
   ],
   "source": [
    "# This should work right??\n",
    "name = input('What is your name?')\n",
    "\n",
    "age = input('And your age?')\n",
    "\n",
    "print('Hm. Well at least you aren\\'t ' + age + 5)"
   ]
  },
  {
   "cell_type": "markdown",
   "id": "ecb8f723-9ab9-4bae-9c6c-53aed8f7b9a8",
   "metadata": {},
   "source": [
    "Looks like we'll have to make a change..."
   ]
  },
  {
   "cell_type": "code",
   "execution_count": 65,
   "id": "82ed022f-bb8b-4851-ad1c-627e6680c547",
   "metadata": {},
   "outputs": [
    {
     "name": "stdin",
     "output_type": "stream",
     "text": [
      "What is your name? x\n",
      "And your age? 26\n"
     ]
    },
    {
     "name": "stdout",
     "output_type": "stream",
     "text": [
      "Hm. Well at least you aren't 31\n"
     ]
    }
   ],
   "source": [
    "# This should work right??\n",
    "name = input('What is your name?')\n",
    "\n",
    "age = input('And your age?')\n",
    "\n",
    "print('Hm. Well at least you aren\\'t ' + str(int(age) + 5))"
   ]
  },
  {
   "cell_type": "markdown",
   "id": "830ea89d",
   "metadata": {},
   "source": [
    "# 8. Logic and Flow Control\n",
    "\n",
    "We may only want certain things to happen if certain conditions are met. Lets talk about some examples.\n",
    "\n",
    "![image](img/comparisons.png)\n"
   ]
  },
  {
   "cell_type": "markdown",
   "id": "abc82eab-c8ea-438e-acb9-bc7cf436bbbb",
   "metadata": {},
   "source": [
    "### NEW VARIABLE: Booleans\n",
    "\n",
    "These are meant to store **True** and **False**"
   ]
  },
  {
   "cell_type": "code",
   "execution_count": 74,
   "id": "5fa135cd",
   "metadata": {},
   "outputs": [
    {
     "name": "stdout",
     "output_type": "stream",
     "text": [
      "<class 'bool'>\n",
      "<class 'bool'>\n",
      "Boleans have type <class 'bool'>\n",
      "True\n",
      "1 < 0:  False\n",
      "4 >= 3:  True\n",
      "10 == 10:  True\n",
      "0 != 99:  True\n"
     ]
    }
   ],
   "source": [
    "print(type(True))\n",
    "print(type(False))\n",
    "present = True\n",
    "print(\"Boleans have type\", type(Present))\n",
    "print(present)\n",
    "\n",
    "print(\"1 < 0: \", 1 < 0)\n",
    "print(\"4 >= 3: \", 4 >= 3)\n",
    "print(\"10 == 10: \", 10 == 10)\n",
    "print(\"0 != 99: \", 0 != 99)"
   ]
  },
  {
   "cell_type": "markdown",
   "id": "ded66c8d",
   "metadata": {},
   "source": [
    "### THE DIFFERENCE BETWEEN THE == AND = OPERATORS\n",
    "\n",
    "You might have noticed that the == operator (equal to) has two equal signs, while the = operator (assignment) has just one equal sign. It’s easy to confuse these two operators with each other. Just remember:\n",
    "\n",
    "* The == operator (equal to) asks whether **TWO** values are the same as each other.\n",
    "\n",
    "* The = operator (assignment) puts the value on the right into the variable on the left.\n",
    "\n",
    "To help remember which is which, notice that the == operator (equal to) consists of two characters, just like the != operator (not equal to) consists of two characters."
   ]
  },
  {
   "cell_type": "markdown",
   "id": "2846c7c6",
   "metadata": {},
   "source": [
    "## Example of logic and flow control"
   ]
  },
  {
   "cell_type": "code",
   "execution_count": 77,
   "id": "16ed4bbc",
   "metadata": {},
   "outputs": [
    {
     "name": "stdin",
     "output_type": "stream",
     "text": [
      "Enter your password. 56306\n"
     ]
    },
    {
     "name": "stdout",
     "output_type": "stream",
     "text": [
      "Access granted\n"
     ]
    }
   ],
   "source": []
  },
  {
   "cell_type": "code",
   "execution_count": null,
   "id": "da438d2d",
   "metadata": {
    "slideshow": {
     "slide_type": "-"
    }
   },
   "outputs": [],
   "source": [
    "passwordFile = open('password.txt')\n",
    "secretPassword = passwordFile.read()\n",
    "\n",
    "print('Enter your password.')\n",
    "typedPassword = input()\n",
    "\n",
    "    if typedPassword == secretPassword:\n",
    "        print('Access granted') \n",
    "    elif typedPassword == '12345':\n",
    "        print('that is the old password')\n",
    "    else:\n",
    "        print('Access denied')\n",
    "    typedPassword = input()\n",
    "        \n",
    "# TODO: Debug this"
   ]
  },
  {
   "cell_type": "code",
   "execution_count": 82,
   "id": "30b580c4-b952-4e2f-a1d9-847711be39b8",
   "metadata": {},
   "outputs": [
    {
     "name": "stdin",
     "output_type": "stream",
     "text": [
      "Enter your password. Type q to exit q\n"
     ]
    }
   ],
   "source": [
    "passwordFile = open('password.txt')\n",
    "secretPassword = passwordFile.read()\n",
    "login_success = False\n",
    "\n",
    "while (login_success == False):\n",
    "    typedPassword = input('Enter your password. Type q to exit')\n",
    "    if typedPassword == secretPassword:\n",
    "        login_success = True\n",
    "        print('Access granted')\n",
    "        #break \n",
    "    elif typedPassword == 'q':\n",
    "        break\n",
    "    else:\n",
    "        print('Access denied')\n",
    "        \n"
   ]
  },
  {
   "cell_type": "markdown",
   "id": "2c1aff5b-32e7-479f-a85f-c4a45562037d",
   "metadata": {},
   "source": [
    "# 9. Lists and Loops\n",
    "\n",
    "Loops are effective ways of operating on large pieces of data "
   ]
  },
  {
   "cell_type": "markdown",
   "id": "c5def863",
   "metadata": {},
   "source": [
    "# 10. Importing modules\n",
    "Modules are collections of code that already have a bunch of built-in functions, variables, and custom data types"
   ]
  },
  {
   "cell_type": "code",
   "execution_count": null,
   "id": "8c0098d8",
   "metadata": {},
   "outputs": [],
   "source": [
    "import random\n",
    "print(random.randint(1, 10))"
   ]
  },
  {
   "cell_type": "code",
   "execution_count": null,
   "id": "23d1f96b",
   "metadata": {},
   "outputs": [],
   "source": [
    "import math\n",
    "print(math.pi)"
   ]
  },
  {
   "cell_type": "markdown",
   "id": "450a3c20",
   "metadata": {},
   "source": [
    "# 9. Q&A \n",
    "## ⏱️ 10 minutes"
   ]
  }
 ],
 "metadata": {
  "kernelspec": {
   "display_name": "Python 3 (ipykernel)",
   "language": "python",
   "name": "python3"
  },
  "language_info": {
   "codemirror_mode": {
    "name": "ipython",
    "version": 3
   },
   "file_extension": ".py",
   "mimetype": "text/x-python",
   "name": "python",
   "nbconvert_exporter": "python",
   "pygments_lexer": "ipython3",
   "version": "3.13.3"
  }
 },
 "nbformat": 4,
 "nbformat_minor": 5
}
