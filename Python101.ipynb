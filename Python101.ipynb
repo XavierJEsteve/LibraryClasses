{
 "cells": [
  {
   "cell_type": "markdown",
   "id": "f1e08903",
   "metadata": {},
   "source": [
    "# 1. What is programming? How is it used?\n",
    "## ⏱️ 5 Minutes "
   ]
  },
  {
   "cell_type": "markdown",
   "id": "bcea249b",
   "metadata": {},
   "source": [
    "Computer programs, also called software, are useful tools for automating tasks, performing complex calculations, and creating systems that are primarily interacted with by people."
   ]
  },
  {
   "cell_type": "markdown",
   "id": "5de9bded",
   "metadata": {},
   "source": [
    "All programs use basic instructions as building blocks. Here are a few of the most common ones, in English:\n",
    "\n",
    "“Do this; then do that.”\n",
    "“If this condition is true, perform this action; otherwise, do that action.”\n",
    "“Do this action exactly 27 times.”\n",
    "“Keep doing that until this condition is true.”"
   ]
  },
  {
   "cell_type": "markdown",
   "id": "55812c4e",
   "metadata": {},
   "source": [
    "Python programs run from top to bottom and have a flow like the one below:\n",
    "\n",
    "➊ passwordFile = open('SecretPasswordFile.txt')\n",
    "\n",
    "➋ secretPassword = passwordFile.read()\n",
    "\n",
    "➌ print('Enter your password.')\n",
    "\n",
    "➍ typedPassword = input()\n",
    "   \n",
    "➎ if typedPassword == secretPassword:\n",
    "\n",
    "    ➏ print('Access granted')\n",
    "   \n",
    "➐ if typedPassword == '12345':\n",
    "   \n",
    "    ➑ print('That password is one that an idiot puts on their luggage.')\n",
    "\n",
    "➑ else:\n",
    "  \n",
    "      print('Access denied')"
   ]
  },
  {
   "cell_type": "markdown",
   "id": "ce70bb04",
   "metadata": {},
   "source": [
    "Aside from writing the code, there's an important task that should be done in increments. That process is *debugging*."
   ]
  },
  {
   "cell_type": "markdown",
   "id": "0d0a646b",
   "metadata": {},
   "source": [
    "# 2. What is Python? Where does it fit in with other programming languages?\n",
    "\n",
    "## ⏱️  5 minutes"
   ]
  },
  {
   "cell_type": "markdown",
   "id": "55610594",
   "metadata": {},
   "source": [
    "# 3. Getting Started\n",
    "## ⏱️ 15 minutes\n",
    "\n",
    "You can try writing python code immediately without downloading anything using this website!\n",
    "https://www.online-python.com/\n",
    "\n",
    "There are two main ways to execute python code. \n",
    "* Directly in an **interpreter**\n",
    "* By creating files such as my_program.py, and invoking the Python program."
   ]
  },
  {
   "cell_type": "markdown",
   "id": "57e2a18b",
   "metadata": {},
   "source": [
    "# 4. Basic data types\n",
    "## ⏱️ 30 minutes\n",
    "\n",
    "Programs only work because the data has specifications. The word **Data Types** is used to distinguish different types of numbers (Yes! There are different types of numbers!), strings, booleans, and even special units that are created by the programmer using these fundamental types.\n",
    "\n",
    "### So what are these things?"
   ]
  },
  {
   "cell_type": "markdown",
   "id": "a1daa92b",
   "metadata": {},
   "source": [
    "![image](img/basicTypes.png)"
   ]
  },
  {
   "cell_type": "markdown",
   "id": "6c6aa056",
   "metadata": {},
   "source": [
    "Programing is made possible by the rules that come with each language. We cant expect numbers and strings to play nice with eachother all the time. Though, python is definitely a bit fast and loose compared to other languages which makes it more approachable to many new programmers."
   ]
  },
  {
   "cell_type": "code",
   "execution_count": null,
   "id": "526b1c56",
   "metadata": {},
   "outputs": [],
   "source": [
    "# Any guesses on what the results will be?\n",
    "\n",
    "print('Rick' + 'Carl')\n",
    "print(1 + 41)\n",
    "print('Morgan + 1')\n",
    "print('carl' * 3)"
   ]
  },
  {
   "cell_type": "code",
   "execution_count": null,
   "id": "006d30de",
   "metadata": {},
   "outputs": [],
   "source": [
    "print( 10 / 4 )\n",
    "print('Sasha / Eugene')\n",
    "print('Negan' / 2)"
   ]
  },
  {
   "cell_type": "markdown",
   "id": "66a47f07",
   "metadata": {},
   "source": [
    "# 5. Variables\n",
    "## ⏱️ 15 minutes\n",
    "\n",
    "Variables are crucial to making useful programs! They allow us to associate data to names of our choosing, effectively storing information."
   ]
  },
  {
   "cell_type": "code",
   "execution_count": null,
   "id": "75cddaa4",
   "metadata": {},
   "outputs": [],
   "source": [
    "# Variables are created by use of ASSIGNMENTS....by using '='\n",
    "full_class = 32\n",
    "\n",
    "#We can initialize an inconceivable amount of variables\n",
    "half_class = 16\n",
    "quarter_class = 8\n",
    "double_class = 64\n",
    "# and so on...\n",
    "\n",
    "# Say we get a new classroom that can fit 40 people. \n",
    "# How many things would we have to change?"
   ]
  },
  {
   "cell_type": "code",
   "execution_count": null,
   "id": "1025e8bb",
   "metadata": {},
   "outputs": [],
   "source": [
    "#Making clever use of variables\n",
    "\n",
    "full_class = 32\n",
    "half_class = full_class / 2\n",
    "quarter_class = half_class / 2\n",
    "double_class = full_class * 2"
   ]
  },
  {
   "cell_type": "markdown",
   "id": "74c9f4df",
   "metadata": {},
   "source": [
    "An important thing about variables in python is that they can be changed by assigning a new value. They are *mutable*."
   ]
  },
  {
   "cell_type": "code",
   "execution_count": null,
   "id": "8c1f8822",
   "metadata": {},
   "outputs": [],
   "source": [
    "full_class = 10\n",
    "print(full_class)"
   ]
  },
  {
   "cell_type": "markdown",
   "id": "efac02a6",
   "metadata": {},
   "source": [
    "![image](img/variableNames.png)"
   ]
  },
  {
   "cell_type": "markdown",
   "id": "6a0efe8d",
   "metadata": {},
   "source": [
    "# 6. Mathematics\n",
    "\n",
    "It is not exactly required that you be a methematician to program. Though it is necessary to know how to call upon different operations at times.\n",
    "\n",
    "![image](img/mathOperators.png)"
   ]
  },
  {
   "cell_type": "markdown",
   "id": "65b6bd22",
   "metadata": {},
   "source": [
    "# 7. Typecasting and the input() function\n",
    "\n",
    "Sometimes we want to turn numbers into their string equivalent. Or integers into floats and vice-versa. This can be done with **type-casting**."
   ]
  },
  {
   "cell_type": "code",
   "execution_count": null,
   "id": "41bfcbe7",
   "metadata": {},
   "outputs": [],
   "source": [
    "print(str(5))\n",
    "print(int(42.99))\n",
    "print(float(1))"
   ]
  },
  {
   "cell_type": "code",
   "execution_count": null,
   "id": "d9e7608b",
   "metadata": {},
   "outputs": [],
   "source": [
    "# This should work right??\n",
    "print('What is your name?')\n",
    "print('And your age?')\n",
    "age = input()\n",
    "print('Hm. Well at least you aren\\'t ' + age + 1)"
   ]
  },
  {
   "cell_type": "markdown",
   "id": "830ea89d",
   "metadata": {},
   "source": [
    "# 8. Logic and Flow Control\n",
    "\n",
    "We may only want certain things to happen if certain conditions are met. Lets talk about some examples.\n",
    "\n",
    "![image](img/comparisons.png)\n"
   ]
  },
  {
   "cell_type": "code",
   "execution_count": null,
   "id": "5fa135cd",
   "metadata": {},
   "outputs": [],
   "source": [
    "print(1 < 0)\n",
    "print(4 >= 3)\n",
    "print(10 == 10)\n",
    "print(0 != 99)"
   ]
  },
  {
   "cell_type": "markdown",
   "id": "ded66c8d",
   "metadata": {},
   "source": [
    "### THE DIFFERENCE BETWEEN THE == AND = OPERATORS\n",
    "\n",
    "You might have noticed that the == operator (equal to) has two equal signs, while the = operator (assignment) has just one equal sign. It’s easy to confuse these two operators with each other. Just remember these points:\n",
    "\n",
    "The == operator (equal to) asks whether two values are the same as each other.\n",
    "The = operator (assignment) puts the value on the right into the variable on the left.\n",
    "To help remember which is which, notice that the == operator (equal to) consists of two characters, just like the != operator (not equal to) consists of two characters."
   ]
  },
  {
   "cell_type": "markdown",
   "id": "2846c7c6",
   "metadata": {},
   "source": [
    "## Example of logic and flow control"
   ]
  },
  {
   "cell_type": "code",
   "execution_count": null,
   "id": "16ed4bbc",
   "metadata": {},
   "outputs": [],
   "source": [
    "passwordFile = open('password.txt')\n",
    "secretPassword = passwordFile.read()\n",
    "\n",
    "print('Enter your password.')\n",
    "typedPassword = input()\n",
    "\n",
    "if typedPassword == secretPassword:\n",
    "    print('Access granted')\n",
    "elif typedPassword == '12345':\n",
    "    print('that is the old password')\n",
    "else:\n",
    "      print('Access denied')\n",
    "        \n",
    "# TODO: Create a while loop so that we can keep guessing"
   ]
  },
  {
   "cell_type": "code",
   "execution_count": null,
   "id": "da438d2d",
   "metadata": {
    "slideshow": {
     "slide_type": "-"
    }
   },
   "outputs": [],
   "source": [
    "passwordFile = open('password.txt')\n",
    "secretPassword = passwordFile.read()\n",
    "\n",
    "print('Enter your password.')\n",
    "typedPassword = input()\n",
    "\n",
    "while typedPassword != secretPassword:\n",
    "    if typedPassword == secretPassword:\n",
    "        print('Access granted') \n",
    "    elif typedPassword == '12345':\n",
    "        print('that is the old password')\n",
    "    else:\n",
    "        print('Access denied')\n",
    "    typedPassword = input()\n",
    "        \n",
    "# TODO: Debug this"
   ]
  },
  {
   "cell_type": "markdown",
   "id": "c5def863",
   "metadata": {},
   "source": [
    "# 9. Importing modules\n",
    "Modules are collections of code that already have a bunch of built-in functions, variables, and custom data types"
   ]
  },
  {
   "cell_type": "code",
   "execution_count": null,
   "id": "8c0098d8",
   "metadata": {},
   "outputs": [],
   "source": [
    "import random\n",
    "print(random.randint(1, 10))"
   ]
  },
  {
   "cell_type": "code",
   "execution_count": null,
   "id": "23d1f96b",
   "metadata": {},
   "outputs": [],
   "source": [
    "import math\n",
    "print(math.pi)"
   ]
  },
  {
   "cell_type": "markdown",
   "id": "450a3c20",
   "metadata": {},
   "source": [
    "# 9. Q&A \n",
    "## ⏱️ 10 minutes"
   ]
  }
 ],
 "metadata": {
  "kernelspec": {
   "display_name": "Python 3 (ipykernel)",
   "language": "python",
   "name": "python3"
  },
  "language_info": {
   "codemirror_mode": {
    "name": "ipython",
    "version": 3
   },
   "file_extension": ".py",
   "mimetype": "text/x-python",
   "name": "python",
   "nbconvert_exporter": "python",
   "pygments_lexer": "ipython3",
   "version": "3.10.9"
  }
 },
 "nbformat": 4,
 "nbformat_minor": 5
}
